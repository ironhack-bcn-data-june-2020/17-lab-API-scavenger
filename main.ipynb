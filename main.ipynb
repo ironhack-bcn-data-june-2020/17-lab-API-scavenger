{
 "cells": [
  {
   "cell_type": "markdown",
   "metadata": {},
   "source": [
    "# 17-lab-API-scavenger"
   ]
  },
  {
   "cell_type": "markdown",
   "metadata": {},
   "source": [
    "API credentials"
   ]
  },
  {
   "cell_type": "code",
   "execution_count": 1,
   "metadata": {},
   "outputs": [],
   "source": [
    "# personal token \n",
    "token = "
   ]
  },
  {
   "cell_type": "code",
   "execution_count": 2,
   "metadata": {},
   "outputs": [],
   "source": [
    "# credentials\n",
    "owner = 'ironhack-datalabs'\n",
    "repo = 'madrid-oct-2018'"
   ]
  },
  {
   "cell_type": "markdown",
   "metadata": {},
   "source": [
    "Import libraries"
   ]
  },
  {
   "cell_type": "code",
   "execution_count": 3,
   "metadata": {},
   "outputs": [],
   "source": [
    "import requests\n",
    "import json\n",
    "import pandas as pd\n",
    "from pandas.io.json import json_normalize\n",
    "import os\n",
    "# pprint --> provides a capability to “pretty-print” arbitrary Python data structures in a form which can be used as input to the interpreter\n",
    "from pprint import pprint"
   ]
  },
  {
   "cell_type": "code",
   "execution_count": 4,
   "metadata": {},
   "outputs": [
    {
     "data": {
      "text/plain": [
       "'0.25.1'"
      ]
     },
     "execution_count": 4,
     "metadata": {},
     "output_type": "execute_result"
    }
   ],
   "source": [
    "pd.__version__"
   ]
  },
  {
   "cell_type": "code",
   "execution_count": 5,
   "metadata": {},
   "outputs": [],
   "source": [
    "# I have some troubles with 'json_normalize'\n",
    "# pd.show_versions()"
   ]
  },
  {
   "cell_type": "markdown",
   "metadata": {},
   "source": [
    "## 0. Getting started"
   ]
  },
  {
   "cell_type": "code",
   "execution_count": 6,
   "metadata": {},
   "outputs": [],
   "source": [
    "# jupyter notebook\n",
    "# ! curl -u cucu-o0:5d95bc3be3196a2475eb4c0f31f2a77cd06bb700 https://api.github.com/user > output.json"
   ]
  },
  {
   "cell_type": "code",
   "execution_count": 7,
   "metadata": {},
   "outputs": [],
   "source": [
    "# check_token = open(\"output.json\", \"r\") \n",
    "# print(check_token.read())"
   ]
  },
  {
   "cell_type": "markdown",
   "metadata": {},
   "source": [
    "## Challenge 1: Fork Languages"
   ]
  },
  {
   "cell_type": "markdown",
   "metadata": {},
   "source": [
    "How many programming languages are used among all the forks created from the main lab repo of ironhack-'datalabs/madrid-oct-2018'"
   ]
  },
  {
   "cell_type": "code",
   "execution_count": 8,
   "metadata": {},
   "outputs": [],
   "source": [
    "# towards data science\n",
    "# 'https://towardsdatascience.com/all-the-things-you-can-do-with-github-api-and-python-f01790fca131'\n",
    "\n",
    "# GET FORKS\n",
    "query_url = f'https://api.github.com/repos/{owner}/{repo}/forks'\n",
    "params = {\n",
    "    'state': 'open',\n",
    "}\n",
    "headers = {'Authorization': f'token {token}'}\n",
    "\n",
    "r = requests.get(query_url, headers=headers, params=params)\n",
    "result = r.json()\n",
    "# pprint(result)"
   ]
  },
  {
   "cell_type": "code",
   "execution_count": 9,
   "metadata": {},
   "outputs": [
    {
     "data": {
      "text/html": [
       "<div>\n",
       "<style scoped>\n",
       "    .dataframe tbody tr th:only-of-type {\n",
       "        vertical-align: middle;\n",
       "    }\n",
       "\n",
       "    .dataframe tbody tr th {\n",
       "        vertical-align: top;\n",
       "    }\n",
       "\n",
       "    .dataframe thead th {\n",
       "        text-align: right;\n",
       "    }\n",
       "</style>\n",
       "<table border=\"1\" class=\"dataframe\">\n",
       "  <thead>\n",
       "    <tr style=\"text-align: right;\">\n",
       "      <th></th>\n",
       "      <th>id</th>\n",
       "      <th>node_id</th>\n",
       "      <th>name</th>\n",
       "      <th>full_name</th>\n",
       "      <th>private</th>\n",
       "      <th>owner</th>\n",
       "      <th>html_url</th>\n",
       "      <th>description</th>\n",
       "      <th>fork</th>\n",
       "      <th>url</th>\n",
       "      <th>...</th>\n",
       "      <th>mirror_url</th>\n",
       "      <th>archived</th>\n",
       "      <th>disabled</th>\n",
       "      <th>open_issues_count</th>\n",
       "      <th>license</th>\n",
       "      <th>forks</th>\n",
       "      <th>open_issues</th>\n",
       "      <th>watchers</th>\n",
       "      <th>default_branch</th>\n",
       "      <th>permissions</th>\n",
       "    </tr>\n",
       "  </thead>\n",
       "  <tbody>\n",
       "    <tr>\n",
       "      <td>0</td>\n",
       "      <td>281180827</td>\n",
       "      <td>MDEwOlJlcG9zaXRvcnkyODExODA4Mjc=</td>\n",
       "      <td>mad-oct-2018</td>\n",
       "      <td>Spurda/mad-oct-2018</td>\n",
       "      <td>False</td>\n",
       "      <td>{'login': 'Spurda', 'id': 64211830, 'node_id':...</td>\n",
       "      <td>https://github.com/Spurda/mad-oct-2018</td>\n",
       "      <td>Student labs for Ironhack data analytics bootcamp</td>\n",
       "      <td>True</td>\n",
       "      <td>https://api.github.com/repos/Spurda/mad-oct-2018</td>\n",
       "      <td>...</td>\n",
       "      <td>None</td>\n",
       "      <td>False</td>\n",
       "      <td>False</td>\n",
       "      <td>0</td>\n",
       "      <td>{'key': 'unlicense', 'name': 'The Unlicense', ...</td>\n",
       "      <td>0</td>\n",
       "      <td>0</td>\n",
       "      <td>0</td>\n",
       "      <td>master</td>\n",
       "      <td>{'admin': False, 'push': False, 'pull': True}</td>\n",
       "    </tr>\n",
       "    <tr>\n",
       "      <td>1</td>\n",
       "      <td>220066216</td>\n",
       "      <td>MDEwOlJlcG9zaXRvcnkyMjAwNjYyMTY=</td>\n",
       "      <td>mad-oct-2018</td>\n",
       "      <td>ToniPons97/mad-oct-2018</td>\n",
       "      <td>False</td>\n",
       "      <td>{'login': 'ToniPons97', 'id': 45130294, 'node_...</td>\n",
       "      <td>https://github.com/ToniPons97/mad-oct-2018</td>\n",
       "      <td>Student labs for Ironhack data analytics bootcamp</td>\n",
       "      <td>True</td>\n",
       "      <td>https://api.github.com/repos/ToniPons97/mad-oc...</td>\n",
       "      <td>...</td>\n",
       "      <td>None</td>\n",
       "      <td>False</td>\n",
       "      <td>False</td>\n",
       "      <td>0</td>\n",
       "      <td>{'key': 'unlicense', 'name': 'The Unlicense', ...</td>\n",
       "      <td>0</td>\n",
       "      <td>0</td>\n",
       "      <td>0</td>\n",
       "      <td>master</td>\n",
       "      <td>{'admin': False, 'push': False, 'pull': True}</td>\n",
       "    </tr>\n",
       "    <tr>\n",
       "      <td>2</td>\n",
       "      <td>204100911</td>\n",
       "      <td>MDEwOlJlcG9zaXRvcnkyMDQxMDA5MTE=</td>\n",
       "      <td>mad-oct-2018</td>\n",
       "      <td>rsennes/mad-oct-2018</td>\n",
       "      <td>False</td>\n",
       "      <td>{'login': 'rsennes', 'id': 34886384, 'node_id'...</td>\n",
       "      <td>https://github.com/rsennes/mad-oct-2018</td>\n",
       "      <td>Student labs for Ironhack data analytics bootcamp</td>\n",
       "      <td>True</td>\n",
       "      <td>https://api.github.com/repos/rsennes/mad-oct-2018</td>\n",
       "      <td>...</td>\n",
       "      <td>None</td>\n",
       "      <td>False</td>\n",
       "      <td>False</td>\n",
       "      <td>0</td>\n",
       "      <td>{'key': 'unlicense', 'name': 'The Unlicense', ...</td>\n",
       "      <td>0</td>\n",
       "      <td>0</td>\n",
       "      <td>0</td>\n",
       "      <td>master</td>\n",
       "      <td>{'admin': False, 'push': False, 'pull': True}</td>\n",
       "    </tr>\n",
       "    <tr>\n",
       "      <td>3</td>\n",
       "      <td>200138127</td>\n",
       "      <td>MDEwOlJlcG9zaXRvcnkyMDAxMzgxMjc=</td>\n",
       "      <td>mad-oct-2018</td>\n",
       "      <td>gggfaria/mad-oct-2018</td>\n",
       "      <td>False</td>\n",
       "      <td>{'login': 'gggfaria', 'id': 13389357, 'node_id...</td>\n",
       "      <td>https://github.com/gggfaria/mad-oct-2018</td>\n",
       "      <td>Student labs for Ironhack data analytics bootcamp</td>\n",
       "      <td>True</td>\n",
       "      <td>https://api.github.com/repos/gggfaria/mad-oct-...</td>\n",
       "      <td>...</td>\n",
       "      <td>None</td>\n",
       "      <td>False</td>\n",
       "      <td>False</td>\n",
       "      <td>0</td>\n",
       "      <td>{'key': 'unlicense', 'name': 'The Unlicense', ...</td>\n",
       "      <td>0</td>\n",
       "      <td>0</td>\n",
       "      <td>0</td>\n",
       "      <td>master</td>\n",
       "      <td>{'admin': False, 'push': False, 'pull': True}</td>\n",
       "    </tr>\n",
       "    <tr>\n",
       "      <td>4</td>\n",
       "      <td>198273438</td>\n",
       "      <td>MDEwOlJlcG9zaXRvcnkxOTgyNzM0Mzg=</td>\n",
       "      <td>mad-oct-2018</td>\n",
       "      <td>nancyulric/mad-oct-2018</td>\n",
       "      <td>False</td>\n",
       "      <td>{'login': 'nancyulric', 'id': 50028113, 'node_...</td>\n",
       "      <td>https://github.com/nancyulric/mad-oct-2018</td>\n",
       "      <td>Student labs for Ironhack data analytics bootcamp</td>\n",
       "      <td>True</td>\n",
       "      <td>https://api.github.com/repos/nancyulric/mad-oc...</td>\n",
       "      <td>...</td>\n",
       "      <td>None</td>\n",
       "      <td>False</td>\n",
       "      <td>False</td>\n",
       "      <td>0</td>\n",
       "      <td>{'key': 'unlicense', 'name': 'The Unlicense', ...</td>\n",
       "      <td>0</td>\n",
       "      <td>0</td>\n",
       "      <td>0</td>\n",
       "      <td>master</td>\n",
       "      <td>{'admin': False, 'push': False, 'pull': True}</td>\n",
       "    </tr>\n",
       "  </tbody>\n",
       "</table>\n",
       "<p>5 rows × 74 columns</p>\n",
       "</div>"
      ],
      "text/plain": [
       "          id                           node_id          name  \\\n",
       "0  281180827  MDEwOlJlcG9zaXRvcnkyODExODA4Mjc=  mad-oct-2018   \n",
       "1  220066216  MDEwOlJlcG9zaXRvcnkyMjAwNjYyMTY=  mad-oct-2018   \n",
       "2  204100911  MDEwOlJlcG9zaXRvcnkyMDQxMDA5MTE=  mad-oct-2018   \n",
       "3  200138127  MDEwOlJlcG9zaXRvcnkyMDAxMzgxMjc=  mad-oct-2018   \n",
       "4  198273438  MDEwOlJlcG9zaXRvcnkxOTgyNzM0Mzg=  mad-oct-2018   \n",
       "\n",
       "                 full_name  private  \\\n",
       "0      Spurda/mad-oct-2018    False   \n",
       "1  ToniPons97/mad-oct-2018    False   \n",
       "2     rsennes/mad-oct-2018    False   \n",
       "3    gggfaria/mad-oct-2018    False   \n",
       "4  nancyulric/mad-oct-2018    False   \n",
       "\n",
       "                                               owner  \\\n",
       "0  {'login': 'Spurda', 'id': 64211830, 'node_id':...   \n",
       "1  {'login': 'ToniPons97', 'id': 45130294, 'node_...   \n",
       "2  {'login': 'rsennes', 'id': 34886384, 'node_id'...   \n",
       "3  {'login': 'gggfaria', 'id': 13389357, 'node_id...   \n",
       "4  {'login': 'nancyulric', 'id': 50028113, 'node_...   \n",
       "\n",
       "                                     html_url  \\\n",
       "0      https://github.com/Spurda/mad-oct-2018   \n",
       "1  https://github.com/ToniPons97/mad-oct-2018   \n",
       "2     https://github.com/rsennes/mad-oct-2018   \n",
       "3    https://github.com/gggfaria/mad-oct-2018   \n",
       "4  https://github.com/nancyulric/mad-oct-2018   \n",
       "\n",
       "                                         description  fork  \\\n",
       "0  Student labs for Ironhack data analytics bootcamp  True   \n",
       "1  Student labs for Ironhack data analytics bootcamp  True   \n",
       "2  Student labs for Ironhack data analytics bootcamp  True   \n",
       "3  Student labs for Ironhack data analytics bootcamp  True   \n",
       "4  Student labs for Ironhack data analytics bootcamp  True   \n",
       "\n",
       "                                                 url  ... mirror_url archived  \\\n",
       "0   https://api.github.com/repos/Spurda/mad-oct-2018  ...       None    False   \n",
       "1  https://api.github.com/repos/ToniPons97/mad-oc...  ...       None    False   \n",
       "2  https://api.github.com/repos/rsennes/mad-oct-2018  ...       None    False   \n",
       "3  https://api.github.com/repos/gggfaria/mad-oct-...  ...       None    False   \n",
       "4  https://api.github.com/repos/nancyulric/mad-oc...  ...       None    False   \n",
       "\n",
       "  disabled open_issues_count  \\\n",
       "0    False                 0   \n",
       "1    False                 0   \n",
       "2    False                 0   \n",
       "3    False                 0   \n",
       "4    False                 0   \n",
       "\n",
       "                                             license forks open_issues  \\\n",
       "0  {'key': 'unlicense', 'name': 'The Unlicense', ...     0           0   \n",
       "1  {'key': 'unlicense', 'name': 'The Unlicense', ...     0           0   \n",
       "2  {'key': 'unlicense', 'name': 'The Unlicense', ...     0           0   \n",
       "3  {'key': 'unlicense', 'name': 'The Unlicense', ...     0           0   \n",
       "4  {'key': 'unlicense', 'name': 'The Unlicense', ...     0           0   \n",
       "\n",
       "  watchers default_branch                                    permissions  \n",
       "0        0         master  {'admin': False, 'push': False, 'pull': True}  \n",
       "1        0         master  {'admin': False, 'push': False, 'pull': True}  \n",
       "2        0         master  {'admin': False, 'push': False, 'pull': True}  \n",
       "3        0         master  {'admin': False, 'push': False, 'pull': True}  \n",
       "4        0         master  {'admin': False, 'push': False, 'pull': True}  \n",
       "\n",
       "[5 rows x 74 columns]"
      ]
     },
     "execution_count": 9,
     "metadata": {},
     "output_type": "execute_result"
    }
   ],
   "source": [
    "# Create a DataFrame\n",
    "# json_normalize doesn't work\n",
    "df = pd.DataFrame(result)\n",
    "df.head()"
   ]
  },
  {
   "cell_type": "code",
   "execution_count": 10,
   "metadata": {},
   "outputs": [
    {
     "data": {
      "text/plain": [
       "Index(['id', 'node_id', 'name', 'full_name', 'private', 'owner', 'html_url',\n",
       "       'description', 'fork', 'url', 'forks_url', 'keys_url',\n",
       "       'collaborators_url', 'teams_url', 'hooks_url', 'issue_events_url',\n",
       "       'events_url', 'assignees_url', 'branches_url', 'tags_url', 'blobs_url',\n",
       "       'git_tags_url', 'git_refs_url', 'trees_url', 'statuses_url',\n",
       "       'languages_url', 'stargazers_url', 'contributors_url',\n",
       "       'subscribers_url', 'subscription_url', 'commits_url', 'git_commits_url',\n",
       "       'comments_url', 'issue_comment_url', 'contents_url', 'compare_url',\n",
       "       'merges_url', 'archive_url', 'downloads_url', 'issues_url', 'pulls_url',\n",
       "       'milestones_url', 'notifications_url', 'labels_url', 'releases_url',\n",
       "       'deployments_url', 'created_at', 'updated_at', 'pushed_at', 'git_url',\n",
       "       'ssh_url', 'clone_url', 'svn_url', 'homepage', 'size',\n",
       "       'stargazers_count', 'watchers_count', 'language', 'has_issues',\n",
       "       'has_projects', 'has_downloads', 'has_wiki', 'has_pages', 'forks_count',\n",
       "       'mirror_url', 'archived', 'disabled', 'open_issues_count', 'license',\n",
       "       'forks', 'open_issues', 'watchers', 'default_branch', 'permissions'],\n",
       "      dtype='object')"
      ]
     },
     "execution_count": 10,
     "metadata": {},
     "output_type": "execute_result"
    }
   ],
   "source": [
    "# I don't undertand why there is no column 'language' (in the .json file it appears)\n",
    "df.columns"
   ]
  },
  {
   "cell_type": "code",
   "execution_count": 11,
   "metadata": {},
   "outputs": [],
   "source": [
    "# df.shape"
   ]
  },
  {
   "cell_type": "code",
   "execution_count": 12,
   "metadata": {},
   "outputs": [
    {
     "data": {
      "text/plain": [
       "['https://api.github.com/repos/Spurda/mad-oct-2018/forks',\n",
       " 'https://api.github.com/repos/ToniPons97/mad-oct-2018/forks',\n",
       " 'https://api.github.com/repos/rsennes/mad-oct-2018/forks',\n",
       " 'https://api.github.com/repos/gggfaria/mad-oct-2018/forks',\n",
       " 'https://api.github.com/repos/nancyulric/mad-oct-2018/forks',\n",
       " 'https://api.github.com/repos/lmartinezruizit/datamad0119/forks',\n",
       " 'https://api.github.com/repos/eye8/madrid-oct-2018/forks',\n",
       " 'https://api.github.com/repos/ArieHassan/madrid-oct-2018/forks',\n",
       " 'https://api.github.com/repos/cmvalma/madrid-oct-2018/forks',\n",
       " 'https://api.github.com/repos/criraca/madrid-oct-2018/forks',\n",
       " 'https://api.github.com/repos/AlbertoCastellanos/madrid-oct-2018/forks',\n",
       " 'https://api.github.com/repos/elenajpp/madrid-oct-2018/forks',\n",
       " 'https://api.github.com/repos/pablobarrio/madrid-oct-2018/forks',\n",
       " 'https://api.github.com/repos/miriammg/madrid-oct-2018/forks',\n",
       " 'https://api.github.com/repos/albertogcmr/madrid-oct-2018/forks',\n",
       " 'https://api.github.com/repos/marisfont/madrid-oct-2018/forks']"
      ]
     },
     "execution_count": 12,
     "metadata": {},
     "output_type": "execute_result"
    }
   ],
   "source": [
    "# List comprehension to iterate throughout all the forks\n",
    "list_forks = [fork for fork in df['forks_url']]\n",
    "list_forks "
   ]
  },
  {
   "cell_type": "markdown",
   "metadata": {},
   "source": [
    "Loop the JSON response to find out the language attribute of each fork. "
   ]
  },
  {
   "cell_type": "code",
   "execution_count": 13,
   "metadata": {},
   "outputs": [
    {
     "name": "stdout",
     "output_type": "stream",
     "text": [
      "['Jupyter Notebook', 'HTML']\n"
     ]
    }
   ],
   "source": [
    "list_languages = []\n",
    "for lang in df['language']:\n",
    "    if lang == None:\n",
    "        continue\n",
    "    else:\n",
    "        list_languages.append(lang)\n",
    "print(list(set(list_languages)))  "
   ]
  },
  {
   "cell_type": "markdown",
   "metadata": {},
   "source": [
    "## Challenge 2: Count Commits"
   ]
  },
  {
   "cell_type": "markdown",
   "metadata": {},
   "source": [
    "Count how many commits were made in the past week"
   ]
  },
  {
   "cell_type": "code",
   "execution_count": 14,
   "metadata": {},
   "outputs": [
    {
     "name": "stdout",
     "output_type": "stream",
     "text": [
      "[]\n"
     ]
    }
   ],
   "source": [
    "# GET COMMITS made in the past week\n",
    "query_url = f'https://api.github.com/repos/{owner}/{repo}/commits?since=2020-08-09T00:00:00Z&until=2020-08-16T00:00:00Z'\n",
    "params = {\n",
    "    'state': 'open',\n",
    "}\n",
    "headers = {'Authorization': f'token {token}'}\n",
    "\n",
    "r = requests.get(query_url, headers=headers, params=params)\n",
    "result = r.json()\n",
    "pprint(result)\n",
    "\n",
    "# There were NO commits in the past week (09-08-2020 --> 16-08-2020)  v"
   ]
  },
  {
   "cell_type": "code",
   "execution_count": 15,
   "metadata": {},
   "outputs": [],
   "source": [
    "# Search all the commits until today\n",
    "query_url = f'https://api.github.com/repos/{owner}/{repo}/commits?until=2020-08-16T00:00:00Z'\n",
    "params = {'state': 'open',}\n",
    "headers = {'Authorization': f'token {token}'}\n",
    "\n",
    "r = requests.get(query_url, headers=headers, params=params)\n",
    "result = r.json()\n",
    "# pprint(result)"
   ]
  },
  {
   "cell_type": "code",
   "execution_count": 16,
   "metadata": {},
   "outputs": [
    {
     "name": "stdout",
     "output_type": "stream",
     "text": [
      "{'name': 'Marc Pomar', 'date': '2019-08-19T11:11:36Z', 'commit': '51812285dc70ac37103735ee7ed672befc582b5f'}\n",
      "{'name': 'ta-data-bcn', 'date': '2019-03-07T15:49:16Z', 'commit': '74662fcb1b617f9be19739c27c841f9d04532399'}\n",
      "{'name': 'ta-data-bcn', 'date': '2019-03-07T15:38:52Z', 'commit': '4e0dafb67e8bf9a3f12da9dc02affc431d0b8993'}\n",
      "{'name': 'Tony Ojeda', 'date': '2019-01-18T18:28:33Z', 'commit': '74662fcb1b617f9be19739c27c841f9d04532399'}\n",
      "{'name': 'Michal Monselise', 'date': '2019-01-17T21:59:35Z', 'commit': '49a31fee1247ec9ff26a0193dd0e75cd6944e81a'}\n",
      "{'name': 'Michal Monselise', 'date': '2019-01-17T06:33:16Z', 'commit': '62334dec6b45f2a8853897cef3c129273e8aea35'}\n",
      "{'name': 'Michal Monselise', 'date': '2019-01-17T06:28:16Z', 'commit': '864e27beab44168f45342a544d48c7036f4683c7'}\n"
     ]
    }
   ],
   "source": [
    "# Search for the last 7 commits\n",
    "for comm in result[:7]:\n",
    "    date = (comm['commit']['author']['date'])\n",
    "    name = (comm['commit']['author']['name'])\n",
    "    commit_code = (comm['commit']['tree']['sha'])\n",
    "    # print(f'{name}-{date}: {commit_code}')\n",
    "    print({'name':name,\n",
    "           'date':date,\n",
    "           'commit':commit_code\n",
    "          })"
   ]
  },
  {
   "cell_type": "markdown",
   "metadata": {},
   "source": [
    "## Challenge 3: Hidden Cold Joke"
   ]
  },
  {
   "cell_type": "markdown",
   "metadata": {},
   "source": [
    "Find hidden files"
   ]
  },
  {
   "cell_type": "code",
   "execution_count": 17,
   "metadata": {},
   "outputs": [],
   "source": [
    "# credentials\n",
    "owner = 'ironhack-datalabs'\n",
    "repo = 'scavenger'"
   ]
  },
  {
   "cell_type": "code",
   "execution_count": 18,
   "metadata": {},
   "outputs": [],
   "source": [
    "# GET SCAVENGER FILES\n",
    "\n",
    "GITHUB_API_BASE_URL = 'https://api.github.com/'\n",
    "GITHUB_API_SEARCH_CODE_PATH = 'search/code?q='\n",
    "codeFileQuery = '.scavengerhunt+in:path+repo:ironhack-datalabs/scavenger'\n",
    "\n",
    "query_url = (GITHUB_API_BASE_URL + GITHUB_API_SEARCH_CODE_PATH + codeFileQuery)\n",
    "params = {'state': 'open',}\n",
    "headers = {'Authorization': f'token {token}'}\n",
    "\n",
    "r = requests.get(query_url, headers=headers, params=params)\n",
    "result = r.json()\n",
    "# pprint(result)"
   ]
  },
  {
   "cell_type": "code",
   "execution_count": 19,
   "metadata": {},
   "outputs": [
    {
     "name": "stdout",
     "output_type": "stream",
     "text": [
      "['.0006.scavengerhunt', '.0014.scavengerhunt', '.0008.scavengerhunt', '.0017.scavengerhunt', '.0012.scavengerhunt', '.0007.scavengerhunt', '.0015.scavengerhunt', '.0021.scavengerhunt', '.0022.scavengerhunt', '.0005.scavengerhunt', '.0013.scavengerhunt', '.0018.scavengerhunt', '.0016.scavengerhunt', '.0009.scavengerhunt', '.0024.scavengerhunt', '.0010.scavengerhunt', '.0011.scavengerhunt', '.0023.scavengerhunt', '.0020.scavengerhunt', '.0003.scavengerhunt', '.0004.scavengerhunt', '.0019.scavengerhunt', '.0002.scavengerhunt', '.0001.scavengerhunt']\n"
     ]
    }
   ],
   "source": [
    "# List of scavenger files\n",
    "scavenger = []\n",
    "for file in result['items']:\n",
    "    scavenger.append(file['name'])\n",
    "print(scavenger)    "
   ]
  },
  {
   "cell_type": "markdown",
   "metadata": {},
   "source": [
    "1. Sort the filenames ascendingly."
   ]
  },
  {
   "cell_type": "code",
   "execution_count": 20,
   "metadata": {},
   "outputs": [
    {
     "data": {
      "text/plain": [
       "['.0001.scavengerhunt',\n",
       " '.0002.scavengerhunt',\n",
       " '.0003.scavengerhunt',\n",
       " '.0004.scavengerhunt',\n",
       " '.0005.scavengerhunt',\n",
       " '.0006.scavengerhunt',\n",
       " '.0007.scavengerhunt',\n",
       " '.0008.scavengerhunt',\n",
       " '.0009.scavengerhunt',\n",
       " '.0010.scavengerhunt',\n",
       " '.0011.scavengerhunt',\n",
       " '.0012.scavengerhunt',\n",
       " '.0013.scavengerhunt',\n",
       " '.0014.scavengerhunt',\n",
       " '.0015.scavengerhunt',\n",
       " '.0016.scavengerhunt',\n",
       " '.0017.scavengerhunt',\n",
       " '.0018.scavengerhunt',\n",
       " '.0019.scavengerhunt',\n",
       " '.0020.scavengerhunt',\n",
       " '.0021.scavengerhunt',\n",
       " '.0022.scavengerhunt',\n",
       " '.0023.scavengerhunt',\n",
       " '.0024.scavengerhunt']"
      ]
     },
     "execution_count": 20,
     "metadata": {},
     "output_type": "execute_result"
    }
   ],
   "source": [
    "# Ordered list\n",
    "final_scavenger = sorted(scavenger)\n",
    "final_scavenger"
   ]
  },
  {
   "cell_type": "markdown",
   "metadata": {},
   "source": [
    "2.Read the content of each secret file into an array of strings."
   ]
  },
  {
   "cell_type": "code",
   "execution_count": 21,
   "metadata": {},
   "outputs": [
    {
     "name": "stdout",
     "output_type": "stream",
     "text": [
      "['https://api.github.com/repositories/162375181/contents/15024/.0006.scavengerhunt?ref=9308ccc8a4c34c5e3a991ee815222a9691c32476', 'https://api.github.com/repositories/162375181/contents/49418/.0014.scavengerhunt?ref=9308ccc8a4c34c5e3a991ee815222a9691c32476', 'https://api.github.com/repositories/162375181/contents/15534/.0008.scavengerhunt?ref=9308ccc8a4c34c5e3a991ee815222a9691c32476', 'https://api.github.com/repositories/162375181/contents/70985/.0017.scavengerhunt?ref=9308ccc8a4c34c5e3a991ee815222a9691c32476', 'https://api.github.com/repositories/162375181/contents/15534/.0012.scavengerhunt?ref=9308ccc8a4c34c5e3a991ee815222a9691c32476', 'https://api.github.com/repositories/162375181/contents/17020/.0007.scavengerhunt?ref=9308ccc8a4c34c5e3a991ee815222a9691c32476', 'https://api.github.com/repositories/162375181/contents/91701/.0015.scavengerhunt?ref=9308ccc8a4c34c5e3a991ee815222a9691c32476', 'https://api.github.com/repositories/162375181/contents/30351/.0021.scavengerhunt?ref=9308ccc8a4c34c5e3a991ee815222a9691c32476', 'https://api.github.com/repositories/162375181/contents/40303/.0022.scavengerhunt?ref=9308ccc8a4c34c5e3a991ee815222a9691c32476', 'https://api.github.com/repositories/162375181/contents/44639/.0005.scavengerhunt?ref=9308ccc8a4c34c5e3a991ee815222a9691c32476', 'https://api.github.com/repositories/162375181/contents/89338/.0013.scavengerhunt?ref=9308ccc8a4c34c5e3a991ee815222a9691c32476', 'https://api.github.com/repositories/162375181/contents/45525/.0018.scavengerhunt?ref=9308ccc8a4c34c5e3a991ee815222a9691c32476', 'https://api.github.com/repositories/162375181/contents/47222/.0016.scavengerhunt?ref=9308ccc8a4c34c5e3a991ee815222a9691c32476', 'https://api.github.com/repositories/162375181/contents/97881/.0009.scavengerhunt?ref=9308ccc8a4c34c5e3a991ee815222a9691c32476', 'https://api.github.com/repositories/162375181/contents/47222/.0024.scavengerhunt?ref=9308ccc8a4c34c5e3a991ee815222a9691c32476', 'https://api.github.com/repositories/162375181/contents/47830/.0010.scavengerhunt?ref=9308ccc8a4c34c5e3a991ee815222a9691c32476', 'https://api.github.com/repositories/162375181/contents/50896/.0011.scavengerhunt?ref=9308ccc8a4c34c5e3a991ee815222a9691c32476', 'https://api.github.com/repositories/162375181/contents/55417/.0023.scavengerhunt?ref=9308ccc8a4c34c5e3a991ee815222a9691c32476', 'https://api.github.com/repositories/162375181/contents/55685/.0020.scavengerhunt?ref=9308ccc8a4c34c5e3a991ee815222a9691c32476', 'https://api.github.com/repositories/162375181/contents/60224/.0003.scavengerhunt?ref=9308ccc8a4c34c5e3a991ee815222a9691c32476', 'https://api.github.com/repositories/162375181/contents/68848/.0004.scavengerhunt?ref=9308ccc8a4c34c5e3a991ee815222a9691c32476', 'https://api.github.com/repositories/162375181/contents/70751/.0019.scavengerhunt?ref=9308ccc8a4c34c5e3a991ee815222a9691c32476', 'https://api.github.com/repositories/162375181/contents/88596/.0002.scavengerhunt?ref=9308ccc8a4c34c5e3a991ee815222a9691c32476', 'https://api.github.com/repositories/162375181/contents/98750/.0001.scavengerhunt?ref=9308ccc8a4c34c5e3a991ee815222a9691c32476']\n",
      "24\n"
     ]
    }
   ],
   "source": [
    "# Create a list with the names of the secret files\n",
    "secret_files = []\n",
    "for file in result['items']:\n",
    "#     print(file)\n",
    "    secret_files.append(file['url'])\n",
    "print(secret_files)\n",
    "print(len(secret_files))"
   ]
  },
  {
   "cell_type": "code",
   "execution_count": 22,
   "metadata": {},
   "outputs": [
    {
     "name": "stdout",
     "output_type": "stream",
     "text": [
      "['https://api.github.com/repositories/162375181/contents/98750/.0001.scavengerhunt?ref=9308ccc8a4c34c5e3a991ee815222a9691c32476', 'https://api.github.com/repositories/162375181/contents/88596/.0002.scavengerhunt?ref=9308ccc8a4c34c5e3a991ee815222a9691c32476', 'https://api.github.com/repositories/162375181/contents/60224/.0003.scavengerhunt?ref=9308ccc8a4c34c5e3a991ee815222a9691c32476', 'https://api.github.com/repositories/162375181/contents/68848/.0004.scavengerhunt?ref=9308ccc8a4c34c5e3a991ee815222a9691c32476', 'https://api.github.com/repositories/162375181/contents/44639/.0005.scavengerhunt?ref=9308ccc8a4c34c5e3a991ee815222a9691c32476', 'https://api.github.com/repositories/162375181/contents/15024/.0006.scavengerhunt?ref=9308ccc8a4c34c5e3a991ee815222a9691c32476', 'https://api.github.com/repositories/162375181/contents/17020/.0007.scavengerhunt?ref=9308ccc8a4c34c5e3a991ee815222a9691c32476', 'https://api.github.com/repositories/162375181/contents/15534/.0008.scavengerhunt?ref=9308ccc8a4c34c5e3a991ee815222a9691c32476', 'https://api.github.com/repositories/162375181/contents/97881/.0009.scavengerhunt?ref=9308ccc8a4c34c5e3a991ee815222a9691c32476', 'https://api.github.com/repositories/162375181/contents/47830/.0010.scavengerhunt?ref=9308ccc8a4c34c5e3a991ee815222a9691c32476', 'https://api.github.com/repositories/162375181/contents/50896/.0011.scavengerhunt?ref=9308ccc8a4c34c5e3a991ee815222a9691c32476', 'https://api.github.com/repositories/162375181/contents/15534/.0012.scavengerhunt?ref=9308ccc8a4c34c5e3a991ee815222a9691c32476', 'https://api.github.com/repositories/162375181/contents/89338/.0013.scavengerhunt?ref=9308ccc8a4c34c5e3a991ee815222a9691c32476', 'https://api.github.com/repositories/162375181/contents/49418/.0014.scavengerhunt?ref=9308ccc8a4c34c5e3a991ee815222a9691c32476', 'https://api.github.com/repositories/162375181/contents/91701/.0015.scavengerhunt?ref=9308ccc8a4c34c5e3a991ee815222a9691c32476', 'https://api.github.com/repositories/162375181/contents/47222/.0016.scavengerhunt?ref=9308ccc8a4c34c5e3a991ee815222a9691c32476', 'https://api.github.com/repositories/162375181/contents/70985/.0017.scavengerhunt?ref=9308ccc8a4c34c5e3a991ee815222a9691c32476', 'https://api.github.com/repositories/162375181/contents/45525/.0018.scavengerhunt?ref=9308ccc8a4c34c5e3a991ee815222a9691c32476', 'https://api.github.com/repositories/162375181/contents/70751/.0019.scavengerhunt?ref=9308ccc8a4c34c5e3a991ee815222a9691c32476', 'https://api.github.com/repositories/162375181/contents/55685/.0020.scavengerhunt?ref=9308ccc8a4c34c5e3a991ee815222a9691c32476', 'https://api.github.com/repositories/162375181/contents/30351/.0021.scavengerhunt?ref=9308ccc8a4c34c5e3a991ee815222a9691c32476', 'https://api.github.com/repositories/162375181/contents/40303/.0022.scavengerhunt?ref=9308ccc8a4c34c5e3a991ee815222a9691c32476', 'https://api.github.com/repositories/162375181/contents/55417/.0023.scavengerhunt?ref=9308ccc8a4c34c5e3a991ee815222a9691c32476', 'https://api.github.com/repositories/162375181/contents/47222/.0024.scavengerhunt?ref=9308ccc8a4c34c5e3a991ee815222a9691c32476']\n"
     ]
    }
   ],
   "source": [
    "# Ordered list\n",
    "sorted_secret_files = sorted(secret_files,key=lambda x: x.split('/')[-1], reverse=False)\n",
    "print(sorted_secret_files)"
   ]
  },
  {
   "cell_type": "code",
   "execution_count": 23,
   "metadata": {},
   "outputs": [
    {
     "data": {
      "text/plain": [
       "['In\\n',\n",
       " 'data\\n',\n",
       " 'science,\\n',\n",
       " '80\\n',\n",
       " 'percent\\n',\n",
       " 'of\\n',\n",
       " 'time\\n',\n",
       " 'spent\\n',\n",
       " 'is\\n',\n",
       " 'preparing\\n',\n",
       " 'data,\\n',\n",
       " '20\\n',\n",
       " 'percent\\n',\n",
       " 'of\\n',\n",
       " 'time\\n',\n",
       " 'is\\n',\n",
       " 'spent\\n',\n",
       " 'complaining\\n',\n",
       " 'about\\n',\n",
       " 'the\\n',\n",
       " 'need\\n',\n",
       " 'to\\n',\n",
       " 'prepare\\n',\n",
       " 'data.\\n']"
      ]
     },
     "execution_count": 23,
     "metadata": {},
     "output_type": "execute_result"
    }
   ],
   "source": [
    "# Find the content of the files\n",
    "words = []\n",
    "\n",
    "for url in sorted_secret_files:\n",
    "    params = {'state': 'open',}\n",
    "    \n",
    "    # Encoded content --> 'Accept'\n",
    "    headers = {'Authorization': f'token {token}', 'Accept': 'application/vnd.github.v3.raw'}\n",
    "    r = requests.get(url, headers=headers, params=params) \n",
    "    \n",
    "    words.append(r.text)\n",
    "\n",
    "words"
   ]
  },
  {
   "cell_type": "markdown",
   "metadata": {},
   "source": [
    "3.Concatenate the strings in the array separating each two with a whitespace."
   ]
  },
  {
   "cell_type": "code",
   "execution_count": 24,
   "metadata": {},
   "outputs": [],
   "source": [
    "joke = [i.strip() for i in words]\n",
    "\n",
    "# Concatenate the list\n",
    "joke = ' '.join(joke)"
   ]
  },
  {
   "cell_type": "markdown",
   "metadata": {},
   "source": [
    "4.Print out the joke."
   ]
  },
  {
   "cell_type": "code",
   "execution_count": 25,
   "metadata": {},
   "outputs": [
    {
     "name": "stdout",
     "output_type": "stream",
     "text": [
      "In data science, 80 percent of time spent is preparing data, 20 percent of time is spent complaining about the need to prepare data.\n"
     ]
    }
   ],
   "source": [
    "print(joke)"
   ]
  },
  {
   "cell_type": "markdown",
   "metadata": {},
   "source": [
    "### In data science, 80 percent of time spent is preparing data, 20 percent of time is spent complaining about the need to prepare data."
   ]
  }
 ],
 "metadata": {
  "kernelspec": {
   "display_name": "Python 3",
   "language": "python",
   "name": "python3"
  },
  "language_info": {
   "codemirror_mode": {
    "name": "ipython",
    "version": 3
   },
   "file_extension": ".py",
   "mimetype": "text/x-python",
   "name": "python",
   "nbconvert_exporter": "python",
   "pygments_lexer": "ipython3",
   "version": "3.7.4"
  }
 },
 "nbformat": 4,
 "nbformat_minor": 4
}
