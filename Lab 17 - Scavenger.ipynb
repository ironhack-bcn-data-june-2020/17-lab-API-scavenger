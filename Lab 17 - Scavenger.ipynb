{
 "cells": [
  {
   "cell_type": "code",
   "execution_count": 100,
   "metadata": {
    "ExecuteTime": {
     "end_time": "2020-08-09T20:26:40.850205Z",
     "start_time": "2020-08-09T20:26:40.847914Z"
    }
   },
   "outputs": [],
   "source": [
    "from bs4 import BeautifulSoup\n",
    "import requests\n",
    "import json\n",
    "import pandas as pd\n",
    "from pandas import json_normalize"
   ]
  },
  {
   "cell_type": "markdown",
   "metadata": {},
   "source": [
    "Documentation: https://developer.github.com/v3/"
   ]
  },
  {
   "cell_type": "markdown",
   "metadata": {
    "ExecuteTime": {
     "end_time": "2020-08-08T21:42:44.488173Z",
     "start_time": "2020-08-08T21:42:44.486493Z"
    }
   },
   "source": [
    "### Importar el token de Github:"
   ]
  },
  {
   "cell_type": "code",
   "execution_count": null,
   "metadata": {},
   "outputs": [],
   "source": [
    "#Esta primera versión no la he hecho yo sola, he mirado referencias online"
   ]
  },
  {
   "cell_type": "code",
   "execution_count": 101,
   "metadata": {
    "ExecuteTime": {
     "end_time": "2020-08-09T20:26:41.689157Z",
     "start_time": "2020-08-09T20:26:41.687272Z"
    }
   },
   "outputs": [],
   "source": [
    "#Lo he hecho primero en la terminal y ahora lo traslado aquí"
   ]
  },
  {
   "cell_type": "code",
   "execution_count": 102,
   "metadata": {
    "ExecuteTime": {
     "end_time": "2020-08-09T20:26:42.383568Z",
     "start_time": "2020-08-09T20:26:41.962459Z"
    }
   },
   "outputs": [
    {
     "name": "stdout",
     "output_type": "stream",
     "text": [
      "  % Total    % Received % Xferd  Average Speed   Time    Time     Time  Current\n",
      "                                 Dload  Upload   Total   Spent    Left  Speed\n",
      "100  1302  100  1302    0     0   4474      0 --:--:-- --:--:-- --:--:--  4474\n"
     ]
    }
   ],
   "source": [
    "!curl -u Blancurri:QuitoElToken https://api.github.com/user > output.json"
   ]
  },
  {
   "cell_type": "code",
   "execution_count": 103,
   "metadata": {
    "ExecuteTime": {
     "end_time": "2020-08-09T20:26:42.646545Z",
     "start_time": "2020-08-09T20:26:42.644515Z"
    }
   },
   "outputs": [],
   "source": [
    "#Cuando abres el output.json en el atom aparece un diccionario con diferentes endpoints para hacer las búsquedas desde tu perfil"
   ]
  },
  {
   "cell_type": "markdown",
   "metadata": {},
   "source": [
    "### Challenge 1: Fork Languages"
   ]
  },
  {
   "cell_type": "markdown",
   "metadata": {},
   "source": [
    "1. Obtain the full list of forks created from the main lab repo via Github API."
   ]
  },
  {
   "cell_type": "code",
   "execution_count": 104,
   "metadata": {
    "ExecuteTime": {
     "end_time": "2020-08-09T20:26:43.993184Z",
     "start_time": "2020-08-09T20:26:42.900729Z"
    },
    "scrolled": true
   },
   "outputs": [
    {
     "name": "stdout",
     "output_type": "stream",
     "text": [
      "  % Total    % Received % Xferd  Average Speed   Time    Time     Time  Current\n",
      "                                 Dload  Upload   Total   Spent    Left  Speed\n",
      "100  176k  100  176k    0     0   182k      0 --:--:-- --:--:-- --:--:--  182k\n"
     ]
    }
   ],
   "source": [
    "#Cojo el endpoint del output.json que hace referencia a los repos\n",
    "!curl -u Blancurri:QuitoElToken https://api.github.com/users/Blancurri/repos > output_dataptbcn_repos.json"
   ]
  },
  {
   "cell_type": "code",
   "execution_count": 105,
   "metadata": {
    "ExecuteTime": {
     "end_time": "2020-08-09T20:26:45.994563Z",
     "start_time": "2020-08-09T20:26:44.247244Z"
    }
   },
   "outputs": [
    {
     "name": "stdout",
     "output_type": "stream",
     "text": [
      "  % Total    % Received % Xferd  Average Speed   Time    Time     Time  Current\n",
      "                                 Dload  Upload   Total   Spent    Left  Speed\n",
      "100  199k  100  199k    0     0   122k      0  0:00:01  0:00:01 --:--:--  122k\n"
     ]
    }
   ],
   "source": [
    "#Vale, resulta que no tengo que elegir el endpoint conmigo de usuaria, sino el de Ironhack\n",
    "#De hecho, es la url que tiene a Ironhack como user y apunta a los repos\n",
    "#Para ello, cambio el user de la url de la api y adapto el nombre del output\n",
    "!curl -u Blancurri:QuitoElToken https://api.github.com/users/ironhack-bcn-data-june-2020/repos > output_repos.json"
   ]
  },
  {
   "cell_type": "code",
   "execution_count": 106,
   "metadata": {
    "ExecuteTime": {
     "end_time": "2020-08-09T20:26:46.282714Z",
     "start_time": "2020-08-09T20:26:46.251983Z"
    }
   },
   "outputs": [],
   "source": [
    "#Creo un df del output que he creado antes\n",
    "df_repos = pd.read_json(\"output_repos.json\")"
   ]
  },
  {
   "cell_type": "code",
   "execution_count": 107,
   "metadata": {
    "ExecuteTime": {
     "end_time": "2020-08-09T20:26:46.555588Z",
     "start_time": "2020-08-09T20:26:46.533708Z"
    },
    "scrolled": true
   },
   "outputs": [
    {
     "data": {
      "text/html": [
       "<div>\n",
       "<style scoped>\n",
       "    .dataframe tbody tr th:only-of-type {\n",
       "        vertical-align: middle;\n",
       "    }\n",
       "\n",
       "    .dataframe tbody tr th {\n",
       "        vertical-align: top;\n",
       "    }\n",
       "\n",
       "    .dataframe thead th {\n",
       "        text-align: right;\n",
       "    }\n",
       "</style>\n",
       "<table border=\"1\" class=\"dataframe\">\n",
       "  <thead>\n",
       "    <tr style=\"text-align: right;\">\n",
       "      <th></th>\n",
       "      <th>id</th>\n",
       "      <th>node_id</th>\n",
       "      <th>name</th>\n",
       "      <th>full_name</th>\n",
       "      <th>private</th>\n",
       "      <th>owner</th>\n",
       "      <th>html_url</th>\n",
       "      <th>description</th>\n",
       "      <th>fork</th>\n",
       "      <th>url</th>\n",
       "      <th>...</th>\n",
       "      <th>mirror_url</th>\n",
       "      <th>archived</th>\n",
       "      <th>disabled</th>\n",
       "      <th>open_issues_count</th>\n",
       "      <th>license</th>\n",
       "      <th>forks</th>\n",
       "      <th>open_issues</th>\n",
       "      <th>watchers</th>\n",
       "      <th>default_branch</th>\n",
       "      <th>permissions</th>\n",
       "    </tr>\n",
       "  </thead>\n",
       "  <tbody>\n",
       "    <tr>\n",
       "      <th>0</th>\n",
       "      <td>273657727</td>\n",
       "      <td>MDEwOlJlcG9zaXRvcnkyNzM2NTc3Mjc=</td>\n",
       "      <td>01-lab-list-comprehensions</td>\n",
       "      <td>ironhack-bcn-data-june-2020/01-lab-list-compre...</td>\n",
       "      <td>False</td>\n",
       "      <td>{'login': 'ironhack-bcn-data-june-2020', 'id':...</td>\n",
       "      <td>https://github.com/ironhack-bcn-data-june-2020...</td>\n",
       "      <td>None</td>\n",
       "      <td>True</td>\n",
       "      <td>https://api.github.com/repos/ironhack-bcn-data...</td>\n",
       "      <td>...</td>\n",
       "      <td>NaN</td>\n",
       "      <td>False</td>\n",
       "      <td>False</td>\n",
       "      <td>11</td>\n",
       "      <td>None</td>\n",
       "      <td>11</td>\n",
       "      <td>11</td>\n",
       "      <td>0</td>\n",
       "      <td>master</td>\n",
       "      <td>{'admin': False, 'push': False, 'pull': True}</td>\n",
       "    </tr>\n",
       "    <tr>\n",
       "      <th>1</th>\n",
       "      <td>273658164</td>\n",
       "      <td>MDEwOlJlcG9zaXRvcnkyNzM2NTgxNjQ=</td>\n",
       "      <td>02-lab-tuple-set-dict</td>\n",
       "      <td>ironhack-bcn-data-june-2020/02-lab-tuple-set-dict</td>\n",
       "      <td>False</td>\n",
       "      <td>{'login': 'ironhack-bcn-data-june-2020', 'id':...</td>\n",
       "      <td>https://github.com/ironhack-bcn-data-june-2020...</td>\n",
       "      <td>None</td>\n",
       "      <td>True</td>\n",
       "      <td>https://api.github.com/repos/ironhack-bcn-data...</td>\n",
       "      <td>...</td>\n",
       "      <td>NaN</td>\n",
       "      <td>False</td>\n",
       "      <td>False</td>\n",
       "      <td>11</td>\n",
       "      <td>None</td>\n",
       "      <td>11</td>\n",
       "      <td>11</td>\n",
       "      <td>0</td>\n",
       "      <td>master</td>\n",
       "      <td>{'admin': False, 'push': False, 'pull': True}</td>\n",
       "    </tr>\n",
       "    <tr>\n",
       "      <th>2</th>\n",
       "      <td>274458731</td>\n",
       "      <td>MDEwOlJlcG9zaXRvcnkyNzQ0NTg3MzE=</td>\n",
       "      <td>03-lab-lambda-functions</td>\n",
       "      <td>ironhack-bcn-data-june-2020/03-lab-lambda-func...</td>\n",
       "      <td>False</td>\n",
       "      <td>{'login': 'ironhack-bcn-data-june-2020', 'id':...</td>\n",
       "      <td>https://github.com/ironhack-bcn-data-june-2020...</td>\n",
       "      <td>None</td>\n",
       "      <td>True</td>\n",
       "      <td>https://api.github.com/repos/ironhack-bcn-data...</td>\n",
       "      <td>...</td>\n",
       "      <td>NaN</td>\n",
       "      <td>False</td>\n",
       "      <td>False</td>\n",
       "      <td>11</td>\n",
       "      <td>None</td>\n",
       "      <td>11</td>\n",
       "      <td>11</td>\n",
       "      <td>0</td>\n",
       "      <td>master</td>\n",
       "      <td>{'admin': False, 'push': False, 'pull': True}</td>\n",
       "    </tr>\n",
       "    <tr>\n",
       "      <th>3</th>\n",
       "      <td>274455921</td>\n",
       "      <td>MDEwOlJlcG9zaXRvcnkyNzQ0NTU5MjE=</td>\n",
       "      <td>04-lab-functional-programming</td>\n",
       "      <td>ironhack-bcn-data-june-2020/04-lab-functional-...</td>\n",
       "      <td>False</td>\n",
       "      <td>{'login': 'ironhack-bcn-data-june-2020', 'id':...</td>\n",
       "      <td>https://github.com/ironhack-bcn-data-june-2020...</td>\n",
       "      <td>None</td>\n",
       "      <td>True</td>\n",
       "      <td>https://api.github.com/repos/ironhack-bcn-data...</td>\n",
       "      <td>...</td>\n",
       "      <td>NaN</td>\n",
       "      <td>False</td>\n",
       "      <td>False</td>\n",
       "      <td>12</td>\n",
       "      <td>None</td>\n",
       "      <td>11</td>\n",
       "      <td>12</td>\n",
       "      <td>0</td>\n",
       "      <td>master</td>\n",
       "      <td>{'admin': False, 'push': False, 'pull': True}</td>\n",
       "    </tr>\n",
       "    <tr>\n",
       "      <th>4</th>\n",
       "      <td>274461775</td>\n",
       "      <td>MDEwOlJlcG9zaXRvcnkyNzQ0NjE3NzU=</td>\n",
       "      <td>05-lab-object-oriented-programming</td>\n",
       "      <td>ironhack-bcn-data-june-2020/05-lab-object-orie...</td>\n",
       "      <td>False</td>\n",
       "      <td>{'login': 'ironhack-bcn-data-june-2020', 'id':...</td>\n",
       "      <td>https://github.com/ironhack-bcn-data-june-2020...</td>\n",
       "      <td>None</td>\n",
       "      <td>True</td>\n",
       "      <td>https://api.github.com/repos/ironhack-bcn-data...</td>\n",
       "      <td>...</td>\n",
       "      <td>NaN</td>\n",
       "      <td>False</td>\n",
       "      <td>False</td>\n",
       "      <td>11</td>\n",
       "      <td>None</td>\n",
       "      <td>11</td>\n",
       "      <td>11</td>\n",
       "      <td>0</td>\n",
       "      <td>master</td>\n",
       "      <td>{'admin': False, 'push': False, 'pull': True}</td>\n",
       "    </tr>\n",
       "  </tbody>\n",
       "</table>\n",
       "<p>5 rows × 74 columns</p>\n",
       "</div>"
      ],
      "text/plain": [
       "          id                           node_id  \\\n",
       "0  273657727  MDEwOlJlcG9zaXRvcnkyNzM2NTc3Mjc=   \n",
       "1  273658164  MDEwOlJlcG9zaXRvcnkyNzM2NTgxNjQ=   \n",
       "2  274458731  MDEwOlJlcG9zaXRvcnkyNzQ0NTg3MzE=   \n",
       "3  274455921  MDEwOlJlcG9zaXRvcnkyNzQ0NTU5MjE=   \n",
       "4  274461775  MDEwOlJlcG9zaXRvcnkyNzQ0NjE3NzU=   \n",
       "\n",
       "                                 name  \\\n",
       "0          01-lab-list-comprehensions   \n",
       "1               02-lab-tuple-set-dict   \n",
       "2             03-lab-lambda-functions   \n",
       "3       04-lab-functional-programming   \n",
       "4  05-lab-object-oriented-programming   \n",
       "\n",
       "                                           full_name  private  \\\n",
       "0  ironhack-bcn-data-june-2020/01-lab-list-compre...    False   \n",
       "1  ironhack-bcn-data-june-2020/02-lab-tuple-set-dict    False   \n",
       "2  ironhack-bcn-data-june-2020/03-lab-lambda-func...    False   \n",
       "3  ironhack-bcn-data-june-2020/04-lab-functional-...    False   \n",
       "4  ironhack-bcn-data-june-2020/05-lab-object-orie...    False   \n",
       "\n",
       "                                               owner  \\\n",
       "0  {'login': 'ironhack-bcn-data-june-2020', 'id':...   \n",
       "1  {'login': 'ironhack-bcn-data-june-2020', 'id':...   \n",
       "2  {'login': 'ironhack-bcn-data-june-2020', 'id':...   \n",
       "3  {'login': 'ironhack-bcn-data-june-2020', 'id':...   \n",
       "4  {'login': 'ironhack-bcn-data-june-2020', 'id':...   \n",
       "\n",
       "                                            html_url description  fork  \\\n",
       "0  https://github.com/ironhack-bcn-data-june-2020...        None  True   \n",
       "1  https://github.com/ironhack-bcn-data-june-2020...        None  True   \n",
       "2  https://github.com/ironhack-bcn-data-june-2020...        None  True   \n",
       "3  https://github.com/ironhack-bcn-data-june-2020...        None  True   \n",
       "4  https://github.com/ironhack-bcn-data-june-2020...        None  True   \n",
       "\n",
       "                                                 url  ... mirror_url archived  \\\n",
       "0  https://api.github.com/repos/ironhack-bcn-data...  ...        NaN    False   \n",
       "1  https://api.github.com/repos/ironhack-bcn-data...  ...        NaN    False   \n",
       "2  https://api.github.com/repos/ironhack-bcn-data...  ...        NaN    False   \n",
       "3  https://api.github.com/repos/ironhack-bcn-data...  ...        NaN    False   \n",
       "4  https://api.github.com/repos/ironhack-bcn-data...  ...        NaN    False   \n",
       "\n",
       "  disabled open_issues_count license forks open_issues watchers  \\\n",
       "0    False                11    None    11          11        0   \n",
       "1    False                11    None    11          11        0   \n",
       "2    False                11    None    11          11        0   \n",
       "3    False                12    None    11          12        0   \n",
       "4    False                11    None    11          11        0   \n",
       "\n",
       "  default_branch                                    permissions  \n",
       "0         master  {'admin': False, 'push': False, 'pull': True}  \n",
       "1         master  {'admin': False, 'push': False, 'pull': True}  \n",
       "2         master  {'admin': False, 'push': False, 'pull': True}  \n",
       "3         master  {'admin': False, 'push': False, 'pull': True}  \n",
       "4         master  {'admin': False, 'push': False, 'pull': True}  \n",
       "\n",
       "[5 rows x 74 columns]"
      ]
     },
     "execution_count": 107,
     "metadata": {},
     "output_type": "execute_result"
    }
   ],
   "source": [
    "df_repos.head()"
   ]
  },
  {
   "cell_type": "code",
   "execution_count": 108,
   "metadata": {
    "ExecuteTime": {
     "end_time": "2020-08-09T20:26:46.807868Z",
     "start_time": "2020-08-09T20:26:46.806254Z"
    }
   },
   "outputs": [],
   "source": [
    "#Podría flattenear las columnas con diccionarios anidados, pero antes me espero a ver si tengo que trabajar con esas columnas"
   ]
  },
  {
   "cell_type": "code",
   "execution_count": 109,
   "metadata": {
    "ExecuteTime": {
     "end_time": "2020-08-09T20:26:47.062585Z",
     "start_time": "2020-08-09T20:26:47.059297Z"
    },
    "scrolled": true
   },
   "outputs": [
    {
     "data": {
      "text/plain": [
       "Index(['id', 'node_id', 'name', 'full_name', 'private', 'owner', 'html_url',\n",
       "       'description', 'fork', 'url', 'forks_url', 'keys_url',\n",
       "       'collaborators_url', 'teams_url', 'hooks_url', 'issue_events_url',\n",
       "       'events_url', 'assignees_url', 'branches_url', 'tags_url', 'blobs_url',\n",
       "       'git_tags_url', 'git_refs_url', 'trees_url', 'statuses_url',\n",
       "       'languages_url', 'stargazers_url', 'contributors_url',\n",
       "       'subscribers_url', 'subscription_url', 'commits_url', 'git_commits_url',\n",
       "       'comments_url', 'issue_comment_url', 'contents_url', 'compare_url',\n",
       "       'merges_url', 'archive_url', 'downloads_url', 'issues_url', 'pulls_url',\n",
       "       'milestones_url', 'notifications_url', 'labels_url', 'releases_url',\n",
       "       'deployments_url', 'created_at', 'updated_at', 'pushed_at', 'git_url',\n",
       "       'ssh_url', 'clone_url', 'svn_url', 'homepage', 'size',\n",
       "       'stargazers_count', 'watchers_count', 'language', 'has_issues',\n",
       "       'has_projects', 'has_downloads', 'has_wiki', 'has_pages', 'forks_count',\n",
       "       'mirror_url', 'archived', 'disabled', 'open_issues_count', 'license',\n",
       "       'forks', 'open_issues', 'watchers', 'default_branch', 'permissions'],\n",
       "      dtype='object')"
      ]
     },
     "execution_count": 109,
     "metadata": {},
     "output_type": "execute_result"
    }
   ],
   "source": [
    "#Existe la columna forks! :)\n",
    "df_repos.columns"
   ]
  },
  {
   "cell_type": "code",
   "execution_count": 110,
   "metadata": {
    "ExecuteTime": {
     "end_time": "2020-08-09T20:26:47.312734Z",
     "start_time": "2020-08-09T20:26:47.310373Z"
    },
    "scrolled": true
   },
   "outputs": [
    {
     "name": "stdout",
     "output_type": "stream",
     "text": [
      "[11, 11, 11, 11, 11, 11, 11, 11, 11, 11, 11, 11, 11, 10, 11, 10, 7, 7, 7, 0, 1, 0, 4, 10, 1, 11, 6, 0, 11]\n"
     ]
    }
   ],
   "source": [
    "#Yasssss aquí está la lista con los forksssssss\n",
    "print(list(df_repos.forks))"
   ]
  },
  {
   "cell_type": "markdown",
   "metadata": {
    "ExecuteTime": {
     "end_time": "2020-08-08T21:26:49.697313Z",
     "start_time": "2020-08-08T21:26:49.694025Z"
    }
   },
   "source": [
    "2. Loop the JSON response to find out the `language` attribute of each fork. Use an array to store the `language` attributes of each fork.\n",
    "    * *Hint: Each language should appear only once in your array.*"
   ]
  },
  {
   "cell_type": "code",
   "execution_count": 111,
   "metadata": {
    "ExecuteTime": {
     "end_time": "2020-08-09T20:26:47.565495Z",
     "start_time": "2020-08-09T20:26:47.562114Z"
    },
    "scrolled": true
   },
   "outputs": [
    {
     "data": {
      "text/plain": [
       "0                 None\n",
       "1                 None\n",
       "2                 None\n",
       "3                 None\n",
       "4                 None\n",
       "5                 None\n",
       "6                 None\n",
       "7                 None\n",
       "8                 None\n",
       "9                 None\n",
       "10                None\n",
       "11                None\n",
       "12                None\n",
       "13                None\n",
       "14                None\n",
       "15                None\n",
       "16                None\n",
       "17                None\n",
       "18                None\n",
       "19                None\n",
       "20                None\n",
       "21                None\n",
       "22    Jupyter Notebook\n",
       "23                None\n",
       "24                None\n",
       "25                None\n",
       "26                None\n",
       "27                None\n",
       "28                None\n",
       "Name: language, dtype: object"
      ]
     },
     "execution_count": 111,
     "metadata": {},
     "output_type": "execute_result"
    }
   ],
   "source": [
    "#Miro el contenido de language\n",
    "df_repos.language"
   ]
  },
  {
   "cell_type": "code",
   "execution_count": 112,
   "metadata": {
    "ExecuteTime": {
     "end_time": "2020-08-09T20:26:47.819011Z",
     "start_time": "2020-08-09T20:26:47.817034Z"
    }
   },
   "outputs": [],
   "source": [
    "#El enunciado dice que hago un loop, pero no le puedo indicar de donde sacar los datos para hacerlo:\n",
    "#Algo así no me está funcionando:\n",
    "#languages = []\n",
    "#for repo in output_repos.json:\n",
    "#    language = (aquí debería indicarle el diccionario language...)\n",
    "#    languages.append(language)"
   ]
  },
  {
   "cell_type": "code",
   "execution_count": 113,
   "metadata": {
    "ExecuteTime": {
     "end_time": "2020-08-09T20:26:48.073751Z",
     "start_time": "2020-08-09T20:26:48.070749Z"
    }
   },
   "outputs": [],
   "source": [
    "#Si ya tengo hecho un df con todos los datos, trabajo desde los df\n",
    "#Hago otro df con las columnas de df_repos que me interesan\n",
    "df_forks = df_repos[[\"name\", \"language\", \"forks\"]]"
   ]
  },
  {
   "cell_type": "code",
   "execution_count": 114,
   "metadata": {
    "ExecuteTime": {
     "end_time": "2020-08-09T20:26:48.335006Z",
     "start_time": "2020-08-09T20:26:48.327394Z"
    },
    "scrolled": true
   },
   "outputs": [
    {
     "data": {
      "text/html": [
       "<div>\n",
       "<style scoped>\n",
       "    .dataframe tbody tr th:only-of-type {\n",
       "        vertical-align: middle;\n",
       "    }\n",
       "\n",
       "    .dataframe tbody tr th {\n",
       "        vertical-align: top;\n",
       "    }\n",
       "\n",
       "    .dataframe thead th {\n",
       "        text-align: right;\n",
       "    }\n",
       "</style>\n",
       "<table border=\"1\" class=\"dataframe\">\n",
       "  <thead>\n",
       "    <tr style=\"text-align: right;\">\n",
       "      <th></th>\n",
       "      <th>name</th>\n",
       "      <th>language</th>\n",
       "      <th>forks</th>\n",
       "    </tr>\n",
       "  </thead>\n",
       "  <tbody>\n",
       "    <tr>\n",
       "      <th>0</th>\n",
       "      <td>01-lab-list-comprehensions</td>\n",
       "      <td>None</td>\n",
       "      <td>11</td>\n",
       "    </tr>\n",
       "    <tr>\n",
       "      <th>1</th>\n",
       "      <td>02-lab-tuple-set-dict</td>\n",
       "      <td>None</td>\n",
       "      <td>11</td>\n",
       "    </tr>\n",
       "    <tr>\n",
       "      <th>2</th>\n",
       "      <td>03-lab-lambda-functions</td>\n",
       "      <td>None</td>\n",
       "      <td>11</td>\n",
       "    </tr>\n",
       "    <tr>\n",
       "      <th>3</th>\n",
       "      <td>04-lab-functional-programming</td>\n",
       "      <td>None</td>\n",
       "      <td>11</td>\n",
       "    </tr>\n",
       "    <tr>\n",
       "      <th>4</th>\n",
       "      <td>05-lab-object-oriented-programming</td>\n",
       "      <td>None</td>\n",
       "      <td>11</td>\n",
       "    </tr>\n",
       "    <tr>\n",
       "      <th>5</th>\n",
       "      <td>06-lab-map-reduce-filter</td>\n",
       "      <td>None</td>\n",
       "      <td>11</td>\n",
       "    </tr>\n",
       "    <tr>\n",
       "      <th>6</th>\n",
       "      <td>07-lab-error-handling</td>\n",
       "      <td>None</td>\n",
       "      <td>11</td>\n",
       "    </tr>\n",
       "    <tr>\n",
       "      <th>7</th>\n",
       "      <td>08-lab-import-export</td>\n",
       "      <td>None</td>\n",
       "      <td>11</td>\n",
       "    </tr>\n",
       "    <tr>\n",
       "      <th>8</th>\n",
       "      <td>09-lab-string-operations</td>\n",
       "      <td>None</td>\n",
       "      <td>11</td>\n",
       "    </tr>\n",
       "    <tr>\n",
       "      <th>9</th>\n",
       "      <td>10-lab-advanced-regex</td>\n",
       "      <td>None</td>\n",
       "      <td>11</td>\n",
       "    </tr>\n",
       "    <tr>\n",
       "      <th>10</th>\n",
       "      <td>11-lab-numpy</td>\n",
       "      <td>None</td>\n",
       "      <td>11</td>\n",
       "    </tr>\n",
       "    <tr>\n",
       "      <th>11</th>\n",
       "      <td>12-lab-pandas</td>\n",
       "      <td>None</td>\n",
       "      <td>11</td>\n",
       "    </tr>\n",
       "    <tr>\n",
       "      <th>12</th>\n",
       "      <td>13-lab-pandas-data-cleaning</td>\n",
       "      <td>None</td>\n",
       "      <td>11</td>\n",
       "    </tr>\n",
       "    <tr>\n",
       "      <th>13</th>\n",
       "      <td>14-lab-df-calculation-and-transformation</td>\n",
       "      <td>None</td>\n",
       "      <td>10</td>\n",
       "    </tr>\n",
       "    <tr>\n",
       "      <th>14</th>\n",
       "      <td>15-lab-parsing-API-data</td>\n",
       "      <td>None</td>\n",
       "      <td>11</td>\n",
       "    </tr>\n",
       "    <tr>\n",
       "      <th>15</th>\n",
       "      <td>16-lab-rss-feeds</td>\n",
       "      <td>None</td>\n",
       "      <td>10</td>\n",
       "    </tr>\n",
       "    <tr>\n",
       "      <th>16</th>\n",
       "      <td>17-lab-API-scavenger</td>\n",
       "      <td>None</td>\n",
       "      <td>7</td>\n",
       "    </tr>\n",
       "    <tr>\n",
       "      <th>17</th>\n",
       "      <td>18-lab-web-scraping</td>\n",
       "      <td>None</td>\n",
       "      <td>7</td>\n",
       "    </tr>\n",
       "    <tr>\n",
       "      <th>18</th>\n",
       "      <td>19-lab-advanced-web-scraping</td>\n",
       "      <td>None</td>\n",
       "      <td>7</td>\n",
       "    </tr>\n",
       "    <tr>\n",
       "      <th>19</th>\n",
       "      <td>data-prework-labs</td>\n",
       "      <td>None</td>\n",
       "      <td>0</td>\n",
       "    </tr>\n",
       "    <tr>\n",
       "      <th>20</th>\n",
       "      <td>datapt-bcn-cheatsheet</td>\n",
       "      <td>None</td>\n",
       "      <td>1</td>\n",
       "    </tr>\n",
       "    <tr>\n",
       "      <th>21</th>\n",
       "      <td>katas-challenge</td>\n",
       "      <td>None</td>\n",
       "      <td>0</td>\n",
       "    </tr>\n",
       "    <tr>\n",
       "      <th>22</th>\n",
       "      <td>notebooks</td>\n",
       "      <td>Jupyter Notebook</td>\n",
       "      <td>4</td>\n",
       "    </tr>\n",
       "    <tr>\n",
       "      <th>23</th>\n",
       "      <td>PR01-project-python</td>\n",
       "      <td>None</td>\n",
       "      <td>10</td>\n",
       "    </tr>\n",
       "    <tr>\n",
       "      <th>24</th>\n",
       "      <td>PR01-python-project-escape-room</td>\n",
       "      <td>None</td>\n",
       "      <td>1</td>\n",
       "    </tr>\n",
       "    <tr>\n",
       "      <th>25</th>\n",
       "      <td>PR02-project-pandas</td>\n",
       "      <td>None</td>\n",
       "      <td>11</td>\n",
       "    </tr>\n",
       "    <tr>\n",
       "      <th>26</th>\n",
       "      <td>PR03-project-web</td>\n",
       "      <td>None</td>\n",
       "      <td>6</td>\n",
       "    </tr>\n",
       "    <tr>\n",
       "      <th>27</th>\n",
       "      <td>syllabus</td>\n",
       "      <td>None</td>\n",
       "      <td>0</td>\n",
       "    </tr>\n",
       "    <tr>\n",
       "      <th>28</th>\n",
       "      <td>test-repo</td>\n",
       "      <td>None</td>\n",
       "      <td>11</td>\n",
       "    </tr>\n",
       "  </tbody>\n",
       "</table>\n",
       "</div>"
      ],
      "text/plain": [
       "                                        name          language  forks\n",
       "0                 01-lab-list-comprehensions              None     11\n",
       "1                      02-lab-tuple-set-dict              None     11\n",
       "2                    03-lab-lambda-functions              None     11\n",
       "3              04-lab-functional-programming              None     11\n",
       "4         05-lab-object-oriented-programming              None     11\n",
       "5                   06-lab-map-reduce-filter              None     11\n",
       "6                      07-lab-error-handling              None     11\n",
       "7                       08-lab-import-export              None     11\n",
       "8                   09-lab-string-operations              None     11\n",
       "9                      10-lab-advanced-regex              None     11\n",
       "10                              11-lab-numpy              None     11\n",
       "11                             12-lab-pandas              None     11\n",
       "12               13-lab-pandas-data-cleaning              None     11\n",
       "13  14-lab-df-calculation-and-transformation              None     10\n",
       "14                   15-lab-parsing-API-data              None     11\n",
       "15                          16-lab-rss-feeds              None     10\n",
       "16                      17-lab-API-scavenger              None      7\n",
       "17                       18-lab-web-scraping              None      7\n",
       "18              19-lab-advanced-web-scraping              None      7\n",
       "19                         data-prework-labs              None      0\n",
       "20                     datapt-bcn-cheatsheet              None      1\n",
       "21                           katas-challenge              None      0\n",
       "22                                 notebooks  Jupyter Notebook      4\n",
       "23                       PR01-project-python              None     10\n",
       "24           PR01-python-project-escape-room              None      1\n",
       "25                       PR02-project-pandas              None     11\n",
       "26                          PR03-project-web              None      6\n",
       "27                                  syllabus              None      0\n",
       "28                                 test-repo              None     11"
      ]
     },
     "execution_count": 114,
     "metadata": {},
     "output_type": "execute_result"
    }
   ],
   "source": [
    "#No entiendo por qué sale \"None\" y sólo en uno \"Jupyter notebook\"\n",
    "#Quizás es por en otros bootcamps sí hay más variedad de lenguages usados?\n",
    "df_forks"
   ]
  },
  {
   "cell_type": "markdown",
   "metadata": {},
   "source": [
    "3. Print the language array. It should be something like:\n",
    "\n",
    "  ```[\"Python\", \"Jupyter Notebook\", \"HTML\"]```"
   ]
  },
  {
   "cell_type": "code",
   "execution_count": 115,
   "metadata": {
    "ExecuteTime": {
     "end_time": "2020-08-09T20:26:48.587301Z",
     "start_time": "2020-08-09T20:26:48.584996Z"
    }
   },
   "outputs": [
    {
     "name": "stdout",
     "output_type": "stream",
     "text": [
      "['Jupyter Notebook', None]\n"
     ]
    }
   ],
   "source": [
    "#Aquí tenemos el listado de languages únicos usados\n",
    "print(list(set(df_forks.language)))"
   ]
  },
  {
   "cell_type": "markdown",
   "metadata": {},
   "source": [
    "### Challenge 2: Count Commits"
   ]
  },
  {
   "cell_type": "markdown",
   "metadata": {},
   "source": [
    "Count how many commits were made in the past week."
   ]
  },
  {
   "cell_type": "markdown",
   "metadata": {},
   "source": [
    "1. Obtain all the commits made in the past week via API, which is a JSON array that contains multiple commit objects."
   ]
  },
  {
   "cell_type": "code",
   "execution_count": 116,
   "metadata": {
    "ExecuteTime": {
     "end_time": "2020-08-09T20:26:52.191222Z",
     "start_time": "2020-08-09T20:26:52.187259Z"
    }
   },
   "outputs": [
    {
     "data": {
      "text/plain": [
       "Index(['id', 'node_id', 'name', 'full_name', 'private', 'owner', 'html_url',\n",
       "       'description', 'fork', 'url', 'forks_url', 'keys_url',\n",
       "       'collaborators_url', 'teams_url', 'hooks_url', 'issue_events_url',\n",
       "       'events_url', 'assignees_url', 'branches_url', 'tags_url', 'blobs_url',\n",
       "       'git_tags_url', 'git_refs_url', 'trees_url', 'statuses_url',\n",
       "       'languages_url', 'stargazers_url', 'contributors_url',\n",
       "       'subscribers_url', 'subscription_url', 'commits_url', 'git_commits_url',\n",
       "       'comments_url', 'issue_comment_url', 'contents_url', 'compare_url',\n",
       "       'merges_url', 'archive_url', 'downloads_url', 'issues_url', 'pulls_url',\n",
       "       'milestones_url', 'notifications_url', 'labels_url', 'releases_url',\n",
       "       'deployments_url', 'created_at', 'updated_at', 'pushed_at', 'git_url',\n",
       "       'ssh_url', 'clone_url', 'svn_url', 'homepage', 'size',\n",
       "       'stargazers_count', 'watchers_count', 'language', 'has_issues',\n",
       "       'has_projects', 'has_downloads', 'has_wiki', 'has_pages', 'forks_count',\n",
       "       'mirror_url', 'archived', 'disabled', 'open_issues_count', 'license',\n",
       "       'forks', 'open_issues', 'watchers', 'default_branch', 'permissions'],\n",
       "      dtype='object')"
      ]
     },
     "execution_count": 116,
     "metadata": {},
     "output_type": "execute_result"
    }
   ],
   "source": [
    "#Volvemos a repasar los nombres de las columnas de nuestro df:\n",
    "df_repos.columns"
   ]
  },
  {
   "cell_type": "code",
   "execution_count": 117,
   "metadata": {
    "ExecuteTime": {
     "end_time": "2020-08-09T20:26:52.490500Z",
     "start_time": "2020-08-09T20:26:52.486888Z"
    },
    "scrolled": true
   },
   "outputs": [
    {
     "data": {
      "text/plain": [
       "0     https://api.github.com/repos/ironhack-bcn-data...\n",
       "1     https://api.github.com/repos/ironhack-bcn-data...\n",
       "2     https://api.github.com/repos/ironhack-bcn-data...\n",
       "3     https://api.github.com/repos/ironhack-bcn-data...\n",
       "4     https://api.github.com/repos/ironhack-bcn-data...\n",
       "5     https://api.github.com/repos/ironhack-bcn-data...\n",
       "6     https://api.github.com/repos/ironhack-bcn-data...\n",
       "7     https://api.github.com/repos/ironhack-bcn-data...\n",
       "8     https://api.github.com/repos/ironhack-bcn-data...\n",
       "9     https://api.github.com/repos/ironhack-bcn-data...\n",
       "10    https://api.github.com/repos/ironhack-bcn-data...\n",
       "11    https://api.github.com/repos/ironhack-bcn-data...\n",
       "12    https://api.github.com/repos/ironhack-bcn-data...\n",
       "13    https://api.github.com/repos/ironhack-bcn-data...\n",
       "14    https://api.github.com/repos/ironhack-bcn-data...\n",
       "15    https://api.github.com/repos/ironhack-bcn-data...\n",
       "16    https://api.github.com/repos/ironhack-bcn-data...\n",
       "17    https://api.github.com/repos/ironhack-bcn-data...\n",
       "18    https://api.github.com/repos/ironhack-bcn-data...\n",
       "19    https://api.github.com/repos/ironhack-bcn-data...\n",
       "20    https://api.github.com/repos/ironhack-bcn-data...\n",
       "21    https://api.github.com/repos/ironhack-bcn-data...\n",
       "22    https://api.github.com/repos/ironhack-bcn-data...\n",
       "23    https://api.github.com/repos/ironhack-bcn-data...\n",
       "24    https://api.github.com/repos/ironhack-bcn-data...\n",
       "25    https://api.github.com/repos/ironhack-bcn-data...\n",
       "26    https://api.github.com/repos/ironhack-bcn-data...\n",
       "27    https://api.github.com/repos/ironhack-bcn-data...\n",
       "28    https://api.github.com/repos/ironhack-bcn-data...\n",
       "Name: commits_url, dtype: object"
      ]
     },
     "execution_count": 117,
     "metadata": {},
     "output_type": "execute_result"
    }
   ],
   "source": [
    "#como hay diccionarios anidados, aquí no vemos todos los nombres de las columnas\n",
    "#En el atom sí puedo ver los nombres de todas las columnas y hay un par que contienen info de commits\n",
    "df_repos[\"commits_url\"]"
   ]
  },
  {
   "cell_type": "code",
   "execution_count": 123,
   "metadata": {
    "ExecuteTime": {
     "end_time": "2020-08-09T21:03:45.789842Z",
     "start_time": "2020-08-09T21:03:45.785546Z"
    },
    "scrolled": true
   },
   "outputs": [
    {
     "data": {
      "text/plain": [
       "0     https://api.github.com/repos/ironhack-bcn-data...\n",
       "1     https://api.github.com/repos/ironhack-bcn-data...\n",
       "2     https://api.github.com/repos/ironhack-bcn-data...\n",
       "3     https://api.github.com/repos/ironhack-bcn-data...\n",
       "4     https://api.github.com/repos/ironhack-bcn-data...\n",
       "5     https://api.github.com/repos/ironhack-bcn-data...\n",
       "6     https://api.github.com/repos/ironhack-bcn-data...\n",
       "7     https://api.github.com/repos/ironhack-bcn-data...\n",
       "8     https://api.github.com/repos/ironhack-bcn-data...\n",
       "9     https://api.github.com/repos/ironhack-bcn-data...\n",
       "10    https://api.github.com/repos/ironhack-bcn-data...\n",
       "11    https://api.github.com/repos/ironhack-bcn-data...\n",
       "12    https://api.github.com/repos/ironhack-bcn-data...\n",
       "13    https://api.github.com/repos/ironhack-bcn-data...\n",
       "14    https://api.github.com/repos/ironhack-bcn-data...\n",
       "15    https://api.github.com/repos/ironhack-bcn-data...\n",
       "16    https://api.github.com/repos/ironhack-bcn-data...\n",
       "17    https://api.github.com/repos/ironhack-bcn-data...\n",
       "18    https://api.github.com/repos/ironhack-bcn-data...\n",
       "19    https://api.github.com/repos/ironhack-bcn-data...\n",
       "20    https://api.github.com/repos/ironhack-bcn-data...\n",
       "21    https://api.github.com/repos/ironhack-bcn-data...\n",
       "22    https://api.github.com/repos/ironhack-bcn-data...\n",
       "23    https://api.github.com/repos/ironhack-bcn-data...\n",
       "24    https://api.github.com/repos/ironhack-bcn-data...\n",
       "25    https://api.github.com/repos/ironhack-bcn-data...\n",
       "26    https://api.github.com/repos/ironhack-bcn-data...\n",
       "27    https://api.github.com/repos/ironhack-bcn-data...\n",
       "28    https://api.github.com/repos/ironhack-bcn-data...\n",
       "Name: git_commits_url, dtype: object"
      ]
     },
     "execution_count": 123,
     "metadata": {},
     "output_type": "execute_result"
    }
   ],
   "source": [
    "df_repos[\"git_commits_url\"]"
   ]
  },
  {
   "cell_type": "code",
   "execution_count": 79,
   "metadata": {
    "ExecuteTime": {
     "end_time": "2020-08-08T23:03:01.228750Z",
     "start_time": "2020-08-08T23:03:01.227190Z"
    }
   },
   "outputs": [],
   "source": [
    "#Ésto no nos da números de cuantos commits se han hecho, solo sus urls...\n",
    "#Cuando entro en la url me da un diccionario pero sin ningún número, de dónde lo saco?\n",
    "#Ahora las urls me dan \"message\": \"Not Found\", \"documentation_url\": \"https://docs.github.com/rest\"\n",
    "#No tengo ni idea de qué hacer aquí ni por donde empezar...!"
   ]
  },
  {
   "cell_type": "markdown",
   "metadata": {},
   "source": [
    "2. Count how many commit objects are contained in the array."
   ]
  },
  {
   "cell_type": "markdown",
   "metadata": {},
   "source": [
    "### Challenge 3: Hidden Cold Joke"
   ]
  },
  {
   "cell_type": "code",
   "execution_count": 126,
   "metadata": {
    "ExecuteTime": {
     "end_time": "2020-08-09T21:30:42.515812Z",
     "start_time": "2020-08-09T21:30:42.513917Z"
    }
   },
   "outputs": [],
   "source": [
    "#tengo que encontrar una broma dentro de un repo"
   ]
  },
  {
   "cell_type": "code",
   "execution_count": 127,
   "metadata": {
    "ExecuteTime": {
     "end_time": "2020-08-09T21:30:43.626588Z",
     "start_time": "2020-08-09T21:30:42.787873Z"
    }
   },
   "outputs": [
    {
     "name": "stdout",
     "output_type": "stream",
     "text": [
      "  % Total    % Received % Xferd  Average Speed   Time    Time     Time  Current\n",
      "                                 Dload  Upload   Total   Spent    Left  Speed\n",
      "100  121k    0  121k    0     0   175k      0 --:--:-- --:--:-- --:--:--  175k\n"
     ]
    }
   ],
   "source": [
    "#Llamo a la API con la url adaptada que cojo del readme \n",
    "#Adapto el nombre del output para este ejercicio\n",
    "!curl -u Blancurri:47f86a11421f51b7fe974cf473b0932d9b5f84ed https://github.com/ironhack-datalabs/scavenger > output_joke.json"
   ]
  },
  {
   "cell_type": "code",
   "execution_count": 128,
   "metadata": {
    "ExecuteTime": {
     "end_time": "2020-08-09T21:30:43.904768Z",
     "start_time": "2020-08-09T21:30:43.891010Z"
    },
    "scrolled": true
   },
   "outputs": [
    {
     "ename": "ValueError",
     "evalue": "Expected object or value",
     "output_type": "error",
     "traceback": [
      "\u001b[0;31m-------------------------\u001b[0m",
      "\u001b[0;31mValueError\u001b[0mTraceback (most recent call last)",
      "\u001b[0;32m<ipython-input-128-300941d7b316>\u001b[0m in \u001b[0;36m<module>\u001b[0;34m\u001b[0m\n\u001b[1;32m      2\u001b[0m \u001b[0;34m\u001b[0m\u001b[0m\n\u001b[1;32m      3\u001b[0m \u001b[0;31m#Por qué me da error??????\u001b[0m\u001b[0;34m\u001b[0m\u001b[0;34m\u001b[0m\u001b[0;34m\u001b[0m\u001b[0m\n\u001b[0;32m----> 4\u001b[0;31m \u001b[0mjokes\u001b[0m \u001b[0;34m=\u001b[0m \u001b[0mpd\u001b[0m\u001b[0;34m.\u001b[0m\u001b[0mread_json\u001b[0m\u001b[0;34m(\u001b[0m\u001b[0;34m\"output_joke.json\"\u001b[0m\u001b[0;34m)\u001b[0m\u001b[0;34m\u001b[0m\u001b[0;34m\u001b[0m\u001b[0m\n\u001b[0m",
      "\u001b[0;32m~/opt/anaconda3/lib/python3.7/site-packages/pandas/util/_decorators.py\u001b[0m in \u001b[0;36mwrapper\u001b[0;34m(*args, **kwargs)\u001b[0m\n\u001b[1;32m    212\u001b[0m                 \u001b[0;32melse\u001b[0m\u001b[0;34m:\u001b[0m\u001b[0;34m\u001b[0m\u001b[0;34m\u001b[0m\u001b[0m\n\u001b[1;32m    213\u001b[0m                     \u001b[0mkwargs\u001b[0m\u001b[0;34m[\u001b[0m\u001b[0mnew_arg_name\u001b[0m\u001b[0;34m]\u001b[0m \u001b[0;34m=\u001b[0m \u001b[0mnew_arg_value\u001b[0m\u001b[0;34m\u001b[0m\u001b[0;34m\u001b[0m\u001b[0m\n\u001b[0;32m--> 214\u001b[0;31m             \u001b[0;32mreturn\u001b[0m \u001b[0mfunc\u001b[0m\u001b[0;34m(\u001b[0m\u001b[0;34m*\u001b[0m\u001b[0margs\u001b[0m\u001b[0;34m,\u001b[0m \u001b[0;34m**\u001b[0m\u001b[0mkwargs\u001b[0m\u001b[0;34m)\u001b[0m\u001b[0;34m\u001b[0m\u001b[0;34m\u001b[0m\u001b[0m\n\u001b[0m\u001b[1;32m    215\u001b[0m \u001b[0;34m\u001b[0m\u001b[0m\n\u001b[1;32m    216\u001b[0m         \u001b[0;32mreturn\u001b[0m \u001b[0mcast\u001b[0m\u001b[0;34m(\u001b[0m\u001b[0mF\u001b[0m\u001b[0;34m,\u001b[0m \u001b[0mwrapper\u001b[0m\u001b[0;34m)\u001b[0m\u001b[0;34m\u001b[0m\u001b[0;34m\u001b[0m\u001b[0m\n",
      "\u001b[0;32m~/opt/anaconda3/lib/python3.7/site-packages/pandas/io/json/_json.py\u001b[0m in \u001b[0;36mread_json\u001b[0;34m(path_or_buf, orient, typ, dtype, convert_axes, convert_dates, keep_default_dates, numpy, precise_float, date_unit, encoding, lines, chunksize, compression)\u001b[0m\n\u001b[1;32m    606\u001b[0m         \u001b[0;32mreturn\u001b[0m \u001b[0mjson_reader\u001b[0m\u001b[0;34m\u001b[0m\u001b[0;34m\u001b[0m\u001b[0m\n\u001b[1;32m    607\u001b[0m \u001b[0;34m\u001b[0m\u001b[0m\n\u001b[0;32m--> 608\u001b[0;31m     \u001b[0mresult\u001b[0m \u001b[0;34m=\u001b[0m \u001b[0mjson_reader\u001b[0m\u001b[0;34m.\u001b[0m\u001b[0mread\u001b[0m\u001b[0;34m(\u001b[0m\u001b[0;34m)\u001b[0m\u001b[0;34m\u001b[0m\u001b[0;34m\u001b[0m\u001b[0m\n\u001b[0m\u001b[1;32m    609\u001b[0m     \u001b[0;32mif\u001b[0m \u001b[0mshould_close\u001b[0m\u001b[0;34m:\u001b[0m\u001b[0;34m\u001b[0m\u001b[0;34m\u001b[0m\u001b[0m\n\u001b[1;32m    610\u001b[0m         \u001b[0mfilepath_or_buffer\u001b[0m\u001b[0;34m.\u001b[0m\u001b[0mclose\u001b[0m\u001b[0;34m(\u001b[0m\u001b[0;34m)\u001b[0m\u001b[0;34m\u001b[0m\u001b[0;34m\u001b[0m\u001b[0m\n",
      "\u001b[0;32m~/opt/anaconda3/lib/python3.7/site-packages/pandas/io/json/_json.py\u001b[0m in \u001b[0;36mread\u001b[0;34m(self)\u001b[0m\n\u001b[1;32m    729\u001b[0m             \u001b[0mobj\u001b[0m \u001b[0;34m=\u001b[0m \u001b[0mself\u001b[0m\u001b[0;34m.\u001b[0m\u001b[0m_get_object_parser\u001b[0m\u001b[0;34m(\u001b[0m\u001b[0mself\u001b[0m\u001b[0;34m.\u001b[0m\u001b[0m_combine_lines\u001b[0m\u001b[0;34m(\u001b[0m\u001b[0mdata\u001b[0m\u001b[0;34m.\u001b[0m\u001b[0msplit\u001b[0m\u001b[0;34m(\u001b[0m\u001b[0;34m\"\\n\"\u001b[0m\u001b[0;34m)\u001b[0m\u001b[0;34m)\u001b[0m\u001b[0;34m)\u001b[0m\u001b[0;34m\u001b[0m\u001b[0;34m\u001b[0m\u001b[0m\n\u001b[1;32m    730\u001b[0m         \u001b[0;32melse\u001b[0m\u001b[0;34m:\u001b[0m\u001b[0;34m\u001b[0m\u001b[0;34m\u001b[0m\u001b[0m\n\u001b[0;32m--> 731\u001b[0;31m             \u001b[0mobj\u001b[0m \u001b[0;34m=\u001b[0m \u001b[0mself\u001b[0m\u001b[0;34m.\u001b[0m\u001b[0m_get_object_parser\u001b[0m\u001b[0;34m(\u001b[0m\u001b[0mself\u001b[0m\u001b[0;34m.\u001b[0m\u001b[0mdata\u001b[0m\u001b[0;34m)\u001b[0m\u001b[0;34m\u001b[0m\u001b[0;34m\u001b[0m\u001b[0m\n\u001b[0m\u001b[1;32m    732\u001b[0m         \u001b[0mself\u001b[0m\u001b[0;34m.\u001b[0m\u001b[0mclose\u001b[0m\u001b[0;34m(\u001b[0m\u001b[0;34m)\u001b[0m\u001b[0;34m\u001b[0m\u001b[0;34m\u001b[0m\u001b[0m\n\u001b[1;32m    733\u001b[0m         \u001b[0;32mreturn\u001b[0m \u001b[0mobj\u001b[0m\u001b[0;34m\u001b[0m\u001b[0;34m\u001b[0m\u001b[0m\n",
      "\u001b[0;32m~/opt/anaconda3/lib/python3.7/site-packages/pandas/io/json/_json.py\u001b[0m in \u001b[0;36m_get_object_parser\u001b[0;34m(self, json)\u001b[0m\n\u001b[1;32m    751\u001b[0m         \u001b[0mobj\u001b[0m \u001b[0;34m=\u001b[0m \u001b[0;32mNone\u001b[0m\u001b[0;34m\u001b[0m\u001b[0;34m\u001b[0m\u001b[0m\n\u001b[1;32m    752\u001b[0m         \u001b[0;32mif\u001b[0m \u001b[0mtyp\u001b[0m \u001b[0;34m==\u001b[0m \u001b[0;34m\"frame\"\u001b[0m\u001b[0;34m:\u001b[0m\u001b[0;34m\u001b[0m\u001b[0;34m\u001b[0m\u001b[0m\n\u001b[0;32m--> 753\u001b[0;31m             \u001b[0mobj\u001b[0m \u001b[0;34m=\u001b[0m \u001b[0mFrameParser\u001b[0m\u001b[0;34m(\u001b[0m\u001b[0mjson\u001b[0m\u001b[0;34m,\u001b[0m \u001b[0;34m**\u001b[0m\u001b[0mkwargs\u001b[0m\u001b[0;34m)\u001b[0m\u001b[0;34m.\u001b[0m\u001b[0mparse\u001b[0m\u001b[0;34m(\u001b[0m\u001b[0;34m)\u001b[0m\u001b[0;34m\u001b[0m\u001b[0;34m\u001b[0m\u001b[0m\n\u001b[0m\u001b[1;32m    754\u001b[0m \u001b[0;34m\u001b[0m\u001b[0m\n\u001b[1;32m    755\u001b[0m         \u001b[0;32mif\u001b[0m \u001b[0mtyp\u001b[0m \u001b[0;34m==\u001b[0m \u001b[0;34m\"series\"\u001b[0m \u001b[0;32mor\u001b[0m \u001b[0mobj\u001b[0m \u001b[0;32mis\u001b[0m \u001b[0;32mNone\u001b[0m\u001b[0;34m:\u001b[0m\u001b[0;34m\u001b[0m\u001b[0;34m\u001b[0m\u001b[0m\n",
      "\u001b[0;32m~/opt/anaconda3/lib/python3.7/site-packages/pandas/io/json/_json.py\u001b[0m in \u001b[0;36mparse\u001b[0;34m(self)\u001b[0m\n\u001b[1;32m    855\u001b[0m \u001b[0;34m\u001b[0m\u001b[0m\n\u001b[1;32m    856\u001b[0m         \u001b[0;32melse\u001b[0m\u001b[0;34m:\u001b[0m\u001b[0;34m\u001b[0m\u001b[0;34m\u001b[0m\u001b[0m\n\u001b[0;32m--> 857\u001b[0;31m             \u001b[0mself\u001b[0m\u001b[0;34m.\u001b[0m\u001b[0m_parse_no_numpy\u001b[0m\u001b[0;34m(\u001b[0m\u001b[0;34m)\u001b[0m\u001b[0;34m\u001b[0m\u001b[0;34m\u001b[0m\u001b[0m\n\u001b[0m\u001b[1;32m    858\u001b[0m \u001b[0;34m\u001b[0m\u001b[0m\n\u001b[1;32m    859\u001b[0m         \u001b[0;32mif\u001b[0m \u001b[0mself\u001b[0m\u001b[0;34m.\u001b[0m\u001b[0mobj\u001b[0m \u001b[0;32mis\u001b[0m \u001b[0;32mNone\u001b[0m\u001b[0;34m:\u001b[0m\u001b[0;34m\u001b[0m\u001b[0;34m\u001b[0m\u001b[0m\n",
      "\u001b[0;32m~/opt/anaconda3/lib/python3.7/site-packages/pandas/io/json/_json.py\u001b[0m in \u001b[0;36m_parse_no_numpy\u001b[0;34m(self)\u001b[0m\n\u001b[1;32m   1087\u001b[0m         \u001b[0;32mif\u001b[0m \u001b[0morient\u001b[0m \u001b[0;34m==\u001b[0m \u001b[0;34m\"columns\"\u001b[0m\u001b[0;34m:\u001b[0m\u001b[0;34m\u001b[0m\u001b[0;34m\u001b[0m\u001b[0m\n\u001b[1;32m   1088\u001b[0m             self.obj = DataFrame(\n\u001b[0;32m-> 1089\u001b[0;31m                 \u001b[0mloads\u001b[0m\u001b[0;34m(\u001b[0m\u001b[0mjson\u001b[0m\u001b[0;34m,\u001b[0m \u001b[0mprecise_float\u001b[0m\u001b[0;34m=\u001b[0m\u001b[0mself\u001b[0m\u001b[0;34m.\u001b[0m\u001b[0mprecise_float\u001b[0m\u001b[0;34m)\u001b[0m\u001b[0;34m,\u001b[0m \u001b[0mdtype\u001b[0m\u001b[0;34m=\u001b[0m\u001b[0;32mNone\u001b[0m\u001b[0;34m\u001b[0m\u001b[0;34m\u001b[0m\u001b[0m\n\u001b[0m\u001b[1;32m   1090\u001b[0m             )\n\u001b[1;32m   1091\u001b[0m         \u001b[0;32melif\u001b[0m \u001b[0morient\u001b[0m \u001b[0;34m==\u001b[0m \u001b[0;34m\"split\"\u001b[0m\u001b[0;34m:\u001b[0m\u001b[0;34m\u001b[0m\u001b[0;34m\u001b[0m\u001b[0m\n",
      "\u001b[0;31mValueError\u001b[0m: Expected object or value"
     ]
    }
   ],
   "source": [
    "#Creo un df para inspeccionar el contenido del json\n",
    "\n",
    "#Por qué me da error??????\n",
    "jokes = pd.read_json(\"output_joke.json\")"
   ]
  },
  {
   "cell_type": "code",
   "execution_count": null,
   "metadata": {
    "ExecuteTime": {
     "end_time": "2020-08-09T21:30:43.911475Z",
     "start_time": "2020-08-09T21:30:43.725Z"
    }
   },
   "outputs": [],
   "source": [
    "df_jokes = pd.DataFrame(jokes)"
   ]
  },
  {
   "cell_type": "code",
   "execution_count": 130,
   "metadata": {
    "ExecuteTime": {
     "end_time": "2020-08-09T21:31:22.147166Z",
     "start_time": "2020-08-09T21:31:22.140718Z"
    }
   },
   "outputs": [
    {
     "ename": "NameError",
     "evalue": "name 'output_joke' is not defined",
     "output_type": "error",
     "traceback": [
      "\u001b[0;31m-------------------------\u001b[0m",
      "\u001b[0;31mNameError\u001b[0mTraceback (most recent call last)",
      "\u001b[0;32m<ipython-input-130-5fe568e4aa59>\u001b[0m in \u001b[0;36m<module>\u001b[0;34m\u001b[0m\n\u001b[1;32m      1\u001b[0m \u001b[0;31m#Por qué todo alrededor de output_joke me da error? Cómo lo manipulo?????\u001b[0m\u001b[0;34m\u001b[0m\u001b[0;34m\u001b[0m\u001b[0;34m\u001b[0m\u001b[0m\n\u001b[0;32m----> 2\u001b[0;31m \u001b[0mprint\u001b[0m\u001b[0;34m(\u001b[0m\u001b[0moutput_joke\u001b[0m\u001b[0;34m.\u001b[0m\u001b[0mjson\u001b[0m\u001b[0;34m)\u001b[0m\u001b[0;34m\u001b[0m\u001b[0;34m\u001b[0m\u001b[0m\n\u001b[0m",
      "\u001b[0;31mNameError\u001b[0m: name 'output_joke' is not defined"
     ]
    }
   ],
   "source": [
    "#Por qué todo alrededor de output_joke me da error? Cómo lo manipulo?????\n",
    "print(output_joke.json)"
   ]
  },
  {
   "cell_type": "code",
   "execution_count": null,
   "metadata": {},
   "outputs": [],
   "source": []
  },
  {
   "cell_type": "code",
   "execution_count": null,
   "metadata": {},
   "outputs": [],
   "source": []
  }
 ],
 "metadata": {
  "kernelspec": {
   "display_name": "Python 3",
   "language": "python",
   "name": "python3"
  },
  "language_info": {
   "codemirror_mode": {
    "name": "ipython",
    "version": 3
   },
   "file_extension": ".py",
   "mimetype": "text/x-python",
   "name": "python",
   "nbconvert_exporter": "python",
   "pygments_lexer": "ipython3",
   "version": "3.7.6"
  },
  "toc": {
   "base_numbering": 1,
   "nav_menu": {},
   "number_sections": true,
   "sideBar": true,
   "skip_h1_title": false,
   "title_cell": "Table of Contents",
   "title_sidebar": "Contents",
   "toc_cell": false,
   "toc_position": {},
   "toc_section_display": true,
   "toc_window_display": false
  },
  "varInspector": {
   "cols": {
    "lenName": 16,
    "lenType": 16,
    "lenVar": 40
   },
   "kernels_config": {
    "python": {
     "delete_cmd_postfix": "",
     "delete_cmd_prefix": "del ",
     "library": "var_list.py",
     "varRefreshCmd": "print(var_dic_list())"
    },
    "r": {
     "delete_cmd_postfix": ") ",
     "delete_cmd_prefix": "rm(",
     "library": "var_list.r",
     "varRefreshCmd": "cat(var_dic_list()) "
    }
   },
   "types_to_exclude": [
    "module",
    "function",
    "builtin_function_or_method",
    "instance",
    "_Feature"
   ],
   "window_display": false
  }
 },
 "nbformat": 4,
 "nbformat_minor": 4
}
